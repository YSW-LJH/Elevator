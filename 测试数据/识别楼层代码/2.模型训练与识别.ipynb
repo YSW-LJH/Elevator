{
 "cells": [
  {
   "attachments": {},
   "cell_type": "markdown",
   "metadata": {},
   "source": [
    "## 准备工作"
   ]
  },
  {
   "cell_type": "code",
   "execution_count": 1,
   "metadata": {},
   "outputs": [],
   "source": [
    "import pandas as pd\n",
    "import warnings\n",
    "import time\n",
    "warnings.filterwarnings(\"ignore\")"
   ]
  },
  {
   "cell_type": "code",
   "execution_count": 2,
   "metadata": {},
   "outputs": [],
   "source": [
    "# 需要文件：训练文件    train_output\n",
    "#          测试文件    test_output\n",
    "#          测试序列文件test_sequence\n",
    "dirName = './03-13/'\n",
    "trainFile = dirName + 'train_output.xlsx'\n",
    "testFile = dirName + 'test_output.xlsx'\n",
    "sequenceFile = dirName+'test_sequence.pkl'\n",
    "# 输出文件\n",
    "outputFile = dirName + 'model-'+time.strftime(\"%m月%d日%H时%M分\")+'.xlsx'\n",
    "train = pd.read_excel(trainFile,index_col=0)\n",
    "test = pd.read_excel(testFile,index_col = 0)\n",
    "train.set_index('ID',inplace=True)\n",
    "test.set_index('ID',inplace=True)\n",
    "sequence = pd.read_pickle(sequenceFile)"
   ]
  },
  {
   "attachments": {},
   "cell_type": "markdown",
   "metadata": {},
   "source": [
    "### 设置训练集与测试集"
   ]
  },
  {
   "cell_type": "code",
   "execution_count": 3,
   "metadata": {},
   "outputs": [],
   "source": [
    "train_X = train.iloc[:,:-1]\n",
    "train_y = train.iloc[:,-1]\n",
    "test_X = test.iloc[:,:-1]\n",
    "test_y = test['Label'].values\n",
    "sequence['Label'] = test_y"
   ]
  },
  {
   "cell_type": "markdown",
   "metadata": {},
   "source": [
    "## KNN"
   ]
  },
  {
   "cell_type": "code",
   "execution_count": 4,
   "metadata": {},
   "outputs": [
    {
     "name": "stdout",
     "output_type": "stream",
     "text": [
      "{0, 1}\n"
     ]
    }
   ],
   "source": [
    "from sklearn.neighbors import  KNeighborsClassifier\n",
    "knn = KNeighborsClassifier(n_neighbors=5)\n",
    "knn.fit(train_X,train_y)\n",
    "yy_knn = knn.predict(test_X)\n",
    "print(set(yy_knn))\n",
    "sequence[\"knn\"] =yy_knn"
   ]
  },
  {
   "cell_type": "markdown",
   "metadata": {},
   "source": [
    "# 输出结果"
   ]
  },
  {
   "cell_type": "code",
   "execution_count": 5,
   "metadata": {},
   "outputs": [],
   "source": [
    "sequence.to_excel(outputFile)"
   ]
  },
  {
   "cell_type": "code",
   "execution_count": 6,
   "metadata": {},
   "outputs": [],
   "source": [
    "res = sequence[['ID','Sequence','knn']]\n",
    "ids = res.loc[res['knn']==1]['ID']"
   ]
  },
  {
   "cell_type": "code",
   "execution_count": 7,
   "metadata": {},
   "outputs": [
    {
     "data": {
      "text/plain": [
       "'D21_D3'"
      ]
     },
     "execution_count": 7,
     "metadata": {},
     "output_type": "execute_result"
    }
   ],
   "source": [
    "floorID = min(ids,key=len)\n",
    "floorID"
   ]
  }
 ],
 "metadata": {
  "kernelspec": {
   "display_name": "base",
   "language": "python",
   "name": "python3"
  },
  "language_info": {
   "codemirror_mode": {
    "name": "ipython",
    "version": 3
   },
   "file_extension": ".py",
   "mimetype": "text/x-python",
   "name": "python",
   "nbconvert_exporter": "python",
   "pygments_lexer": "ipython3",
   "version": "3.9.12"
  },
  "orig_nbformat": 4,
  "vscode": {
   "interpreter": {
    "hash": "1a646819b1e5f23fa9208cf4a3878500e52f6d3eff1f8f50f8160de79116add4"
   }
  }
 },
 "nbformat": 4,
 "nbformat_minor": 2
}
